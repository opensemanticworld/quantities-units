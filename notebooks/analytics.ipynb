{
 "cells": [
  {
   "cell_type": "markdown",
   "metadata": {},
   "source": [
    "# Analytics for Ontology-Comparison"
   ]
  },
  {
   "cell_type": "markdown",
   "metadata": {},
   "source": [
    "## Imports"
   ]
  },
  {
   "cell_type": "code",
   "execution_count": 1,
   "metadata": {},
   "outputs": [],
   "source": [
    "from pprint import pprint\n",
    "from utils.sparql_wrapper import Sparql"
   ]
  },
  {
   "cell_type": "markdown",
   "metadata": {},
   "source": [
    "## Fetch Data"
   ]
  },
  {
   "cell_type": "code",
   "execution_count": 3,
   "metadata": {},
   "outputs": [
    {
     "name": "stdout",
     "output_type": "stream",
     "text": [
      "Reading SPARQL Query from /usr/local/dev/gitlab/osw/apps/python-lvl2/quantities-units/src/quantities-units/utils/../ontology/om2/sparql/quantitykind.sparql\n",
      "Writing JSON data to /usr/local/dev/gitlab/osw/apps/python-lvl2/quantities-units/src/quantities-units/utils/../ontology/om2/data/quantitykind.json\n"
     ]
    }
   ],
   "source": [
    "# OM2 instance\n",
    "sparql_om2 = Sparql(\n",
    "    endpoint=\"https://fuseki.sysmon.digital.isc.fraunhofer.de/om2/sparql\",\n",
    "    src_filepath=\"../ontology/om2/sparql/quantitykind.sparql\",\n",
    "    tgt_filepath=\"../ontology/om2/data/quantitykind.json\",\n",
    "    debug=False,\n",
    ")\n",
    "om2_qk = sparql_om2.execQuery()\n",
    "sparql_om2.writeJsonFile(data=om2_qk)\n",
    "# pprint(om2_qk)"
   ]
  }
 ],
 "metadata": {
  "kernelspec": {
   "display_name": "quantities-units-f2Vxw5my-py3.12",
   "language": "python",
   "name": "python3"
  },
  "language_info": {
   "codemirror_mode": {
    "name": "ipython",
    "version": 3
   },
   "file_extension": ".py",
   "mimetype": "text/x-python",
   "name": "python",
   "nbconvert_exporter": "python",
   "pygments_lexer": "ipython3",
   "version": "3.12.3"
  }
 },
 "nbformat": 4,
 "nbformat_minor": 2
}
