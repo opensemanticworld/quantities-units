{
 "cells": [
  {
   "cell_type": "code",
   "execution_count": 10,
   "metadata": {},
   "outputs": [
    {
     "name": "stdout",
     "output_type": "stream",
     "text": [
      "'{\"ts\":{\"0\":\"2023-01-01T00:00:00.000\",\"1\":\"2023-01-01T01:00:00.000\",\"2\":\"2023-01-01T02:00:00.000\",\"3\":\"2023-01-01T03:00:00.000\",\"4\":\"2023-01-01T04:00:00.000\",\"5\":\"2023-01-01T05:00:00.000\",\"6\":\"2023-01-01T06:00:00.000\",\"7\":\"2023-01-01T07:00:00.000\",\"8\":\"2023-01-01T08:00:00.000\",\"9\":\"2023-01-01T09:00:00.000\"},\"Spannung\":{\"0\":3.2360586108,\"1\":3.482980693,\"2\":1.4553593757,\"3\":1.9191526571,\"4\":0.6652112689,\"5\":0.046995905,\"6\":4.2113278928,\"7\":4.862812751,\"8\":3.3857722589,\"9\":1.9704906994}}'\n"
     ]
    },
    {
     "name": "stderr",
     "output_type": "stream",
     "text": [
      "/tmp/ipykernel_1809875/3231306330.py:8: FutureWarning: 'H' is deprecated and will be removed in a future version, please use 'h' instead.\n",
      "  \"ts\": pd.date_range(start=\"2023-01-01\", periods=10, freq=\"H\"),\n"
     ]
    }
   ],
   "source": [
    "import pandas as pd\n",
    "import numpy as np\n",
    "import json\n",
    "from pprint import pprint\n",
    "\n",
    "# Beispiel Daten erstellen\n",
    "data = {\n",
    "    \"ts\": pd.date_range(start=\"2023-01-01\", periods=10, freq=\"H\"),\n",
    "    \"Spannung\": np.random.uniform(\n",
    "        0, 5, 10\n",
    "    ),  # Zufällige Spannungswerte zwischen 0 und 5\n",
    "}\n",
    "\n",
    "orient_name = \"columns\"\n",
    "\n",
    "# DataFrame erstellen\n",
    "df = pd.DataFrame(data)\n",
    "\n",
    "# DataFrame in JSON exportieren\n",
    "json_data = df.to_json(orient=orient_name, date_format=\"iso\")\n",
    "\n",
    "# JSON Ausgabe anzeigen\n",
    "pprint(json_data)\n",
    "\n",
    "# Export json file\n",
    "with open(f\"{orient_name}.json\", \"w\") as f:\n",
    "    f.write(json_data)"
   ]
  }
 ],
 "metadata": {
  "kernelspec": {
   "display_name": "quantities-units-f2Vxw5my-py3.12",
   "language": "python",
   "name": "python3"
  },
  "language_info": {
   "codemirror_mode": {
    "name": "ipython",
    "version": 3
   },
   "file_extension": ".py",
   "mimetype": "text/x-python",
   "name": "python",
   "nbconvert_exporter": "python",
   "pygments_lexer": "ipython3",
   "version": "3.12.3"
  }
 },
 "nbformat": 4,
 "nbformat_minor": 2
}
