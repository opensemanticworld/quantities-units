{
 "cells": [
  {
   "cell_type": "markdown",
   "metadata": {},
   "source": [
    "# Analytics for Ontology-Comparison"
   ]
  },
  {
   "cell_type": "markdown",
   "metadata": {},
   "source": [
    "## Imports"
   ]
  },
  {
   "cell_type": "code",
   "execution_count": 1,
   "metadata": {},
   "outputs": [],
   "source": [
    "from pprint import pprint\n",
    "from utils import sparql_wrapper"
   ]
  },
  {
   "cell_type": "markdown",
   "metadata": {},
   "source": [
    "## Fetch Data"
   ]
  },
  {
   "cell_type": "markdown",
   "metadata": {},
   "source": [
    "### OM2 Instance"
   ]
  },
  {
   "cell_type": "code",
   "execution_count": null,
   "metadata": {},
   "outputs": [],
   "source": [
    "sparql_om2_qk = sparql_wrapper.Sparql(\n",
    "    endpoint=\"https://fuseki.sysmon.digital.isc.fraunhofer.de/om2/sparql\",\n",
    "    src_filepath=\"../ontology/om2/sparql/quantitykind.sparql\",\n",
    "    tgt_filepath=\"../ontology/om2/data/quantitykind.json\",\n",
    "    debug=False,\n",
    ")\n",
    "om2_qk = sparql_om2_qk.execQuery()\n",
    "# sparql_om2_qk.writeJsonFile(data=om2_qk)\n",
    "pprint(om2_qk)"
   ]
  },
  {
   "cell_type": "markdown",
   "metadata": {},
   "source": [
    "### QUDT Instance"
   ]
  },
  {
   "cell_type": "code",
   "execution_count": null,
   "metadata": {},
   "outputs": [],
   "source": [
    "sparql_qudt_qk = sparql_wrapper.Sparql(\n",
    "    endpoint=\"https://www.qudt.org/fuseki/qudt/sparql\",\n",
    "    src_filepath=\"../ontology/qudt/sparql/quantitykind.sparql\",\n",
    "    tgt_filepath=\"../ontology/qudt/data/quantitykind.json\",\n",
    "    debug=False,\n",
    ")\n",
    "qudt_qk = sparql_qudt_qk.execQuery()\n",
    "# sparql_qudt_qk.writeJsonFile(data=qudt_qk)\n",
    "pprint(qudt_qk)"
   ]
  },
  {
   "cell_type": "markdown",
   "metadata": {},
   "source": [
    "### Wikidata"
   ]
  },
  {
   "cell_type": "code",
   "execution_count": null,
   "metadata": {},
   "outputs": [],
   "source": [
    "sparql_wikidata_qk = sparql_wrapper.Sparql(\n",
    "    endpoint=\"https://query.wikidata.org/sparql\",\n",
    "    src_filepath=\"../ontology/wikidata/sparql/quantitykind.sparql\",\n",
    "    tgt_filepath=\"../ontology/wikidata/data/quantitykind.json\",\n",
    "    debug=False,\n",
    ")\n",
    "wikidata_qk = sparql_wikidata_qk.execQuery()\n",
    "# sparql_wikidata_qk.writeJsonFile(data=wikidata_qk)\n",
    "pprint(wikidata_qk)"
   ]
  }
 ],
 "metadata": {
  "kernelspec": {
   "display_name": "quantities-units-f2Vxw5my-py3.12",
   "language": "python",
   "name": "python3"
  },
  "language_info": {
   "codemirror_mode": {
    "name": "ipython",
    "version": 3
   },
   "file_extension": ".py",
   "mimetype": "text/x-python",
   "name": "python",
   "nbconvert_exporter": "python",
   "pygments_lexer": "ipython3",
   "version": "3.12.3"
  }
 },
 "nbformat": 4,
 "nbformat_minor": 2
}
