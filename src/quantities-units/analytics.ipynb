{
 "cells": [
  {
   "cell_type": "markdown",
   "metadata": {},
   "source": [
    "# Analytics for Ontology-Comparison"
   ]
  },
  {
   "cell_type": "markdown",
   "metadata": {},
   "source": [
    "## Imports"
   ]
  },
  {
   "cell_type": "code",
   "execution_count": 8,
   "metadata": {},
   "outputs": [],
   "source": [
    "from pprint import pprint\n",
    "from utils import sparql_wrapper"
   ]
  },
  {
   "cell_type": "markdown",
   "metadata": {},
   "source": [
    "## Fetch Data"
   ]
  },
  {
   "cell_type": "markdown",
   "metadata": {},
   "source": [
    "### OM2 Instance"
   ]
  },
  {
   "cell_type": "code",
   "execution_count": null,
   "metadata": {},
   "outputs": [],
   "source": [
    "sparql_om2_qk = sparql_wrapper.Sparql(\n",
    "    endpoint=\"https://fuseki.sysmon.digital.isc.fraunhofer.de/om2/sparql\",\n",
    "    src_filepath=\"../ontology/om2/sparql/quantitykind.sparql\",\n",
    "    tgt_filepath=\"../ontology/om2/data/quantitykind.json\",\n",
    "    debug=False,\n",
    ")\n",
    "om2_qk = sparql_om2_qk.execQuery()\n",
    "# sparql_om2_qk.writeJsonFile(data=om2_qk)\n",
    "pprint(om2_qk)"
   ]
  },
  {
   "cell_type": "markdown",
   "metadata": {},
   "source": [
    "### QUDT Instance"
   ]
  },
  {
   "cell_type": "code",
   "execution_count": null,
   "metadata": {},
   "outputs": [],
   "source": [
    "sparql_qudt_qk = sparql_wrapper.Sparql(\n",
    "    endpoint=\"https://www.qudt.org/fuseki/qudt/sparql\",\n",
    "    src_filepath=\"../ontology/qudt/sparql/quantitykind.sparql\",\n",
    "    tgt_filepath=\"../ontology/qudt/data/quantitykind.json\",\n",
    "    debug=False,\n",
    ")\n",
    "qudt_qk = sparql_qudt_qk.execQuery()\n",
    "sparql_qudt_qk.writeJsonFile(data=qudt_qk)\n",
    "# pprint(qudt_qk)\n",
    "print(len(qudt_qk))"
   ]
  },
  {
   "cell_type": "markdown",
   "metadata": {},
   "source": [
    "### Wikidata"
   ]
  },
  {
   "cell_type": "code",
   "execution_count": null,
   "metadata": {},
   "outputs": [],
   "source": [
    "sparql_wikidata_qk = sparql_wrapper.Sparql(\n",
    "    endpoint=\"https://query.wikidata.org/sparql\",\n",
    "    src_filepath=\"../ontology/wikidata/sparql/quantitykind.sparql\",\n",
    "    tgt_filepath=\"../ontology/wikidata/data/quantitykind.json\",\n",
    "    debug=False,\n",
    ")\n",
    "wikidata_qk = sparql_wikidata_qk.execQuery()\n",
    "# sparql_wikidata_qk.writeJsonFile(data=wikidata_qk)\n",
    "pprint(wikidata_qk)"
   ]
  },
  {
   "cell_type": "markdown",
   "metadata": {},
   "source": [
    "## OSL Interface to Load and Save Data: Length (Quantity)"
   ]
  },
  {
   "cell_type": "code",
   "execution_count": 1,
   "metadata": {},
   "outputs": [
    {
     "name": "stderr",
     "output_type": "stream",
     "text": [
      "c:\\Users\\raeder\\AppData\\Local\\pypoetry\\Cache\\virtualenvs\\quantities-units-W4YBs7Av-py3.12\\Lib\\site-packages\\osw\\utils\\strings.py:58: FutureWarning: Possible nested set at position 16\n",
      "  self.pattern = re.compile(self.pattern)\n",
      "c:\\Users\\raeder\\AppData\\Local\\pypoetry\\Cache\\virtualenvs\\quantities-units-W4YBs7Av-py3.12\\Lib\\site-packages\\osw\\express.py:323: UserWarning: An exception occurred while loading the module dependencies: \n",
      "'module 'osw.model.entity' has no attribute 'File''You will be now have to connect to an OSW instance to fetch the dependencies from!\n",
      "  warn(\n"
     ]
    },
    {
     "name": "stdout",
     "output_type": "stream",
     "text": [
      "No credentials for wiki-dev.open-semantic-lab.org found. Please use the prompt to login\n",
      "Credentials file created at 'C:\\Users\\raeder\\Desktop\\dev\\Gitlab\\osw\\apps\\python-lvl2\\quantities-units\\src\\quantities-units\\osw_files\\credentials.pwd.yaml'.\n",
      "Fetch Category:OSW11a53cdfbdc24524bf8ac435cbf65d9d\n",
      "Fetch Category:OSW05b244d0a669436e96fe4e1631d5a171\n",
      "Fetch Category:OSWff333fd349af4f65a69100405a9e60c7\n",
      "Fetch Category:OSW2ac4493f8635481eaf1db961b63c8325\n",
      "Fetch Category:Item\n",
      "Fetch Category:Entity\n",
      "Fetch JsonSchema:Label\n",
      "Fetch JsonSchema:Label\n",
      "Fetch JsonSchema:Description\n",
      "Fetch JsonSchema:Statement\n",
      "Fetch JsonSchema:Label\n",
      "Fetch JsonSchema:Meta\n",
      "Fetch Category:OSW3e3f5dd4f71842fbb8f270e511af8031\n",
      "Fetch Category:OSWff333fd349af4f65a69100405a9e60c7\n",
      "Fetch Category:OSW2ac4493f8635481eaf1db961b63c8325\n",
      "Fetch Category:Item\n",
      "Fetch Category:Entity\n",
      "Fetch JsonSchema:Label\n",
      "Fetch JsonSchema:Label\n",
      "Fetch JsonSchema:Description\n",
      "Fetch JsonSchema:Statement\n",
      "Fetch JsonSchema:Label\n",
      "Fetch JsonSchema:Meta\n",
      "ReadAccess\n",
      "AccessRestrictions\n",
      "Label\n",
      "Description\n",
      "WikiPage\n",
      "Meta\n",
      "Entity\n",
      "ObjectStatement\n",
      "DataStatement\n",
      "QuantityStatement\n",
      "Item\n",
      "Data\n",
      "File\n",
      "RemoteFile\n",
      "WikiFile\n"
     ]
    },
    {
     "name": "stderr",
     "output_type": "stream",
     "text": [
      "c:\\Users\\raeder\\AppData\\Local\\pypoetry\\Cache\\virtualenvs\\quantities-units-W4YBs7Av-py3.12\\Lib\\site-packages\\osw\\express.py:335: UserWarning: Dependencies specified in the module 'osw.express' have been fetched from OSW:\n",
      "{'LocalFile': 'Category:OSW3e3f5dd4f71842fbb8f270e511af8031', 'WikiFile': 'Category:OSW11a53cdfbdc24524bf8ac435cbf65d9d'}\n",
      "Its recommended to restart the kernel, to apply all changes seamlessly.\n",
      "  warn(\n"
     ]
    },
    {
     "name": "stdout",
     "output_type": "stream",
     "text": [
      "Fetch Category:OSW1f4cc7d62a974fec893f4bea35427aef\n",
      "Fetch Category:OSW00fbd6feecb5408997ca18d4e681a131\n",
      "Fetch Category:Item\n",
      "Fetch Category:Entity\n",
      "Fetch JsonSchema:Label\n",
      "Fetch JsonSchema:Label\n",
      "Fetch JsonSchema:Description\n",
      "Fetch JsonSchema:Statement\n",
      "Fetch JsonSchema:Label\n",
      "Fetch JsonSchema:Meta\n",
      "Fetch Category:OSW6ef70c808fb54abbbacb059c285713d4\n",
      "Fetch Category:OSW93ccae36243542ceac6c951450a81d47\n",
      "ReadAccess\n",
      "AccessRestrictions\n",
      "Label\n",
      "Description\n",
      "WikiPage\n",
      "Meta\n",
      "Entity\n",
      "ObjectStatement\n",
      "DataStatement\n",
      "QuantityStatement\n",
      "Item\n",
      "Data\n",
      "File\n",
      "RemoteFile\n",
      "WikiFile\n",
      "LocalFile\n",
      "<class 'osw.model.entity.BaseQuantityKind'>\n",
      "Length (Quantity)\n",
      "('{\"type\": [\"Category:OSW1f4cc7d62a974fec893f4bea35427aef\"], \"uuid\": '\n",
      " '\"de866d0e-5503-4462-ad2c-6cb6531ad3ea\", \"exact_ontology_match\": '\n",
      " '[\"https://qudt.org/vocab/quantitykind/Length\", '\n",
      " '\"https://si-digital-framework.org/SI/quantities/LENG\", \" '\n",
      " 'http://dbpedia.org/resource/Length \", '\n",
      " '\"urn:samm:io.catenax.shared.quantity:2.0.0#LinearCharacteristic \"], '\n",
      " '\"rdf_type\": [\"https://qudt.org/vocab/quantitykind/Length\"], \"name\": '\n",
      " '\"LengthQuantity\", \"label\": [{\"text\": \"Length (Quantity)\", \"lang\": \"en\"}], '\n",
      " '\"description\": [], \"meta\": {\"wiki_page\": {\"title\": '\n",
      " '\"OSWde866d0e55034462ad2c6cb6531ad3ea\", \"namespace\": \"Item\"}}, \"units\": '\n",
      " '[\"Item:OSWc73852e7049f42e7b5282866f3839f5e\"]}')\n"
     ]
    }
   ],
   "source": [
    "import os\n",
    "\n",
    "import osw.model.entity as model\n",
    "from osw.express import OswExpress\n",
    "from pprint import pprint\n",
    "\n",
    "\n",
    "# Authentication\n",
    "osw_obj = OswExpress(\n",
    "    domain=\"wiki-dev.open-semantic-lab.org\",  # cred_filepath=pwd_file_path\n",
    ")\n",
    "\n",
    "# Load instance: Length (Quantity)\n",
    "title = \"Item:OSWde866d0e55034462ad2c6cb6531ad3ea\"\n",
    "\n",
    "q_length = osw_obj.load_entity(title)\n",
    "print(q_length.__class__)\n",
    "print(q_length.label[0].text)  # We can access any attribute of model.Entity\n",
    "pprint(q_length.json(exclude_none=True))  # export as json\n",
    "\n",
    "# # Save Option 1: Create a new instance of QuantityKind using the constructor\n",
    "# new_quantity = model.BaseQuantityKind(\n",
    "#     label=[model.Label(text=\"New Quantity\")],\n",
    "#     symbol=[model.Symbol(text=\"NQ\")],\n",
    "#     definition=[model.Definition(text=\"This is a new quantity\")],\n",
    "#     quantityDimension=[model.QuantityDimension()],\n",
    "#     quantityKindReference=[model.QuantityKindReference()],\n",
    "# )\n",
    "\n",
    "# # Save Option 2: Create a new instance of QuantityKind from a python dictionary (keys must match the attribute names)\n",
    "# all_new_quantities_json = model.BaseQuantityKind(**python_dict)"
   ]
  },
  {
   "cell_type": "markdown",
   "metadata": {},
   "source": [
    "## OSL Interface to Load and Save Data: Meter (Unit)"
   ]
  },
  {
   "cell_type": "code",
   "execution_count": null,
   "metadata": {},
   "outputs": [],
   "source": [
    "import os\n",
    "\n",
    "import osw.model.entity as model\n",
    "from osw.express import OswExpress\n",
    "from pprint import pprint\n",
    "\n",
    "# Authentication\n",
    "osw_obj = OswExpress(\n",
    "    domain=\"wiki-dev.open-semantic-lab.org\",  # cred_filepath=pwd_file_path\n",
    ")\n",
    "\n",
    "# Load instance: Length (Quantity)\n",
    "title = \"Item:OSWc73852e7049f42e7b5282866f3839f5e\"\n",
    "\n",
    "u_meter = osw_obj.load_entity(title)\n",
    "print(u_meter.__class__)\n",
    "print(u_meter.label[0].text)  # We can access any attribute of model.Entity\n",
    "pprint(u_meter.json(exclude_none=True))  # export as json"
   ]
  }
 ],
 "metadata": {
  "kernelspec": {
   "display_name": "quantities-units-W4YBs7Av-py3.12",
   "language": "python",
   "name": "python3"
  },
  "language_info": {
   "codemirror_mode": {
    "name": "ipython",
    "version": 3
   },
   "file_extension": ".py",
   "mimetype": "text/x-python",
   "name": "python",
   "nbconvert_exporter": "python",
   "pygments_lexer": "ipython3",
   "version": "3.12.0"
  }
 },
 "nbformat": 4,
 "nbformat_minor": 2
}
