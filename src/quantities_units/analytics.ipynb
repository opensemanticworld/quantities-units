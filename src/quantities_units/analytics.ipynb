{
 "cells": [
  {
   "cell_type": "markdown",
   "metadata": {},
   "source": [
    "# Analytics for Ontology-Comparison"
   ]
  },
  {
   "cell_type": "markdown",
   "metadata": {},
   "source": [
    "## Imports"
   ]
  },
  {
   "cell_type": "code",
   "execution_count": null,
   "metadata": {},
   "outputs": [],
   "source": [
    "from pprint import pprint\n",
    "from utils import sparql_wrapper"
   ]
  },
  {
   "cell_type": "markdown",
   "metadata": {},
   "source": [
    "## Fetch Data"
   ]
  },
  {
   "cell_type": "markdown",
   "metadata": {},
   "source": [
    "### OM2 Instance"
   ]
  },
  {
   "cell_type": "code",
   "execution_count": null,
   "metadata": {},
   "outputs": [],
   "source": [
    "sparql_om2_qk = sparql_wrapper.Sparql(\n",
    "    endpoint=\"https://fuseki.sysmon.digital.isc.fraunhofer.de/om2/sparql\",\n",
    "    src_filepath=\"../ontology/om2/sparql/quantitykind.sparql\",\n",
    "    tgt_filepath=\"../ontology/om2/data/quantitykind.json\",\n",
    "    debug=False,\n",
    ")\n",
    "om2_qk = sparql_om2_qk.execQuery()\n",
    "# sparql_om2_qk.writeJsonFile(data=om2_qk)\n",
    "pprint(om2_qk)"
   ]
  },
  {
   "cell_type": "markdown",
   "metadata": {},
   "source": [
    "### QUDT Instance"
   ]
  },
  {
   "cell_type": "code",
   "execution_count": null,
   "metadata": {},
   "outputs": [],
   "source": [
    "sparql_qudt_qk = sparql_wrapper.Sparql(\n",
    "    endpoint=\"https://www.qudt.org/fuseki/qudt/sparql\",\n",
    "    src_filepath=\"../ontology/qudt/sparql/quantitykind.sparql\",\n",
    "    tgt_filepath=\"../ontology/qudt/data/quantitykind.json\",\n",
    "    debug=False,\n",
    ")\n",
    "qudt_qk = sparql_qudt_qk.execQuery()\n",
    "sparql_qudt_qk.writeJsonFile(data=qudt_qk)\n",
    "# pprint(qudt_qk)\n",
    "print(len(qudt_qk[\"results\"][\"bindings\"]))"
   ]
  },
  {
   "cell_type": "markdown",
   "metadata": {},
   "source": [
    "### Wikidata"
   ]
  },
  {
   "cell_type": "code",
   "execution_count": null,
   "metadata": {},
   "outputs": [],
   "source": [
    "sparql_wikidata_qk = sparql_wrapper.Sparql(\n",
    "    endpoint=\"https://query.wikidata.org/sparql\",\n",
    "    src_filepath=\"../ontology/wikidata/sparql/quantitykind.sparql\",\n",
    "    tgt_filepath=\"../ontology/wikidata/data/quantitykind.json\",\n",
    "    debug=False,\n",
    ")\n",
    "wikidata_qk = sparql_wikidata_qk.execQuery()\n",
    "# sparql_wikidata_qk.writeJsonFile(data=wikidata_qk)\n",
    "print(\n",
    "    \"num of wikidata quantity kinds: \", len(wikidata_qk[\"results\"][\"bindings\"])\n",
    ")\n",
    "pprint(wikidata_qk)"
   ]
  },
  {
   "cell_type": "markdown",
   "metadata": {},
   "source": [
    "## OSL Interface to Load and Save Data: Length (Quantity)"
   ]
  },
  {
   "cell_type": "code",
   "execution_count": null,
   "metadata": {},
   "outputs": [],
   "source": [
    "import os\n",
    "\n",
    "import osw.model.entity as model\n",
    "from osw.express import OswExpress\n",
    "from pprint import pprint\n",
    "\n",
    "\n",
    "# Authentication\n",
    "osw_obj = OswExpress(\n",
    "    domain=\"wiki-dev.open-semantic-lab.org\",  # cred_filepath=pwd_file_path\n",
    ")\n",
    "\n",
    "# Load instance: Length (Quantity)\n",
    "title = \"Item:OSWde866d0e55034462ad2c6cb6531ad3ea\"\n",
    "\n",
    "q_length = osw_obj.load_entity(title)\n",
    "print(q_length.__class__)\n",
    "print(q_length.label[0].text)  # We can access any attribute of model.Entity\n",
    "pprint(q_length.json(exclude_none=True))  # export as json\n",
    "\n",
    "# # Save Option 1: Create a new instance of QuantityKind using the constructor\n",
    "# new_quantity = model.BaseQuantityKind(\n",
    "#     label=[model.Label(text=\"New Quantity\")],\n",
    "#     symbol=[model.Symbol(text=\"NQ\")],\n",
    "#     definition=[model.Definition(text=\"This is a new quantity\")],\n",
    "#     quantityDimension=[model.QuantityDimension()],\n",
    "#     quantityKindReference=[model.QuantityKindReference()],\n",
    "# )\n",
    "\n",
    "# # Save Option 2: Create a new instance of QuantityKind from a python dictionary (keys must match the attribute names)\n",
    "# all_new_quantities_json = model.BaseQuantityKind(**python_dict)"
   ]
  },
  {
   "cell_type": "markdown",
   "metadata": {},
   "source": [
    "## OSL Interface to Load and Save Data: Meter (Unit)"
   ]
  },
  {
   "cell_type": "code",
   "execution_count": null,
   "metadata": {},
   "outputs": [],
   "source": [
    "import os\n",
    "\n",
    "import osw.model.entity as model\n",
    "from osw.express import OswExpress\n",
    "from pprint import pprint\n",
    "\n",
    "# Authentication\n",
    "osw_obj = OswExpress(\n",
    "    domain=\"wiki-dev.open-semantic-lab.org\",  # cred_filepath=pwd_file_path\n",
    ")\n",
    "\n",
    "# Load instance: Length (Quantity)\n",
    "title = \"Item:OSWc73852e7049f42e7b5282866f3839f5e\"\n",
    "\n",
    "u_meter = osw_obj.load_entity(title)\n",
    "print(u_meter.__class__)\n",
    "print(u_meter.label[0].text)  # We can access any attribute of model.Entity\n",
    "pprint(u_meter.json(exclude_none=True))  # export as json"
   ]
  },
  {
   "cell_type": "markdown",
   "metadata": {},
   "source": []
  },
  {
   "cell_type": "code",
   "execution_count": null,
   "metadata": {},
   "outputs": [
    {
     "name": "stdout",
     "output_type": "stream",
     "text": [
      "mobility\n",
      "Beweglichkeit\n",
      "[Label(text='mobility', lang='en'), Label(text='Beweglichkeit', lang='de')]\n",
      "[Label(text='Beweglichkeit', lang='de')]\n"
     ]
    },
    {
     "ename": "ValueError",
     "evalue": "All elements of label_list must be of type model.Label",
     "output_type": "error",
     "traceback": [
      "\u001b[1;31m---------------------------------------------------------------------------\u001b[0m",
      "\u001b[1;31mValueError\u001b[0m                                Traceback (most recent call last)",
      "Cell \u001b[1;32mIn[19], line 42\u001b[0m\n\u001b[0;32m     40\u001b[0m \u001b[38;5;28mprint\u001b[39m(sort_label_list(label_list))\n\u001b[0;32m     41\u001b[0m \u001b[38;5;28mprint\u001b[39m(sort_label_list(label_list_2))\n\u001b[1;32m---> 42\u001b[0m \u001b[38;5;28mprint\u001b[39m(\u001b[43msort_label_list\u001b[49m\u001b[43m(\u001b[49m\u001b[43mlabel_list\u001b[49m\u001b[38;5;241;43m=\u001b[39;49m\u001b[43m[\u001b[49m\u001b[38;5;124;43m\"\u001b[39;49m\u001b[38;5;124;43mstring\u001b[39;49m\u001b[38;5;124;43m\"\u001b[39;49m\u001b[43m]\u001b[49m\u001b[43m)\u001b[49m)\n",
      "Cell \u001b[1;32mIn[19], line 32\u001b[0m, in \u001b[0;36msort_label_list\u001b[1;34m(label_list)\u001b[0m\n\u001b[0;32m     30\u001b[0m       \u001b[38;5;28;01mreturn\u001b[39;00m []\n\u001b[0;32m     31\u001b[0m   \u001b[38;5;28;01mif\u001b[39;00m \u001b[38;5;129;01mnot\u001b[39;00m \u001b[38;5;28mall\u001b[39m(\u001b[38;5;28misinstance\u001b[39m(label, model\u001b[38;5;241m.\u001b[39mLabel) \u001b[38;5;28;01mfor\u001b[39;00m label \u001b[38;5;129;01min\u001b[39;00m label_list):\n\u001b[1;32m---> 32\u001b[0m       \u001b[38;5;28;01mraise\u001b[39;00m \u001b[38;5;167;01mValueError\u001b[39;00m(\n\u001b[0;32m     33\u001b[0m           \u001b[38;5;124m\"\u001b[39m\u001b[38;5;124mAll elements of label_list must be of type model.Label\u001b[39m\u001b[38;5;124m\"\u001b[39m\n\u001b[0;32m     34\u001b[0m )\n\u001b[0;32m     35\u001b[0m   \u001b[38;5;28;01melse\u001b[39;00m:\n\u001b[0;32m     36\u001b[0m       \u001b[38;5;28;01mreturn\u001b[39;00m \u001b[38;5;28msorted\u001b[39m(label_list, key\u001b[38;5;241m=\u001b[39m\u001b[38;5;28;01mlambda\u001b[39;00m x: x\u001b[38;5;241m.\u001b[39mlang \u001b[38;5;241m!=\u001b[39m \u001b[38;5;124m\"\u001b[39m\u001b[38;5;124men\u001b[39m\u001b[38;5;124m\"\u001b[39m)\n",
      "\u001b[1;31mValueError\u001b[0m: All elements of label_list must be of type model.Label"
     ]
    }
   ],
   "source": [
    "import osw.model.entity as model\n",
    "\n",
    "\n",
    "label_list = [\n",
    "    model.Label(text=\"Beweglichkeit\", lang=\"de\"),\n",
    "    model.Label(text=\"mobility\", lang=\"en\"),\n",
    "]\n",
    "\n",
    "label_list_2 = [\n",
    "    model.Label(text=\"Beweglichkeit\", lang=\"de\"),\n",
    "]\n",
    "\n",
    "\n",
    "# Function to select english label as default, fallback to available label\n",
    "def get_prefered_en_labelname(label_list):\n",
    "    for label in label_list:\n",
    "        if label.lang == \"en\":\n",
    "            return label.text\n",
    "    return label_list[0].text\n",
    "\n",
    "\n",
    "print(get_prefered_en_labelname(label_list))  # mobility\n",
    "print(get_prefered_en_labelname(label_list_2))  # Beweglichkeit\n",
    "\n",
    "\n",
    "def sort_label_list(label_list: list[model.Label] = None) -> list[model.Label]:\n",
    "    \"Function to sort label lists, english first, then other languages.\"\n",
    "    # check if elements of label_list are of type model.Label\n",
    "    if not label_list:\n",
    "        return []\n",
    "    if not all(isinstance(label, model.Label) for label in label_list):\n",
    "        raise ValueError(\n",
    "            \"All elements of label_list must be of type model.Label\"\n",
    "        )\n",
    "    else:\n",
    "        return sorted(label_list, key=lambda x: x.lang != \"en\")\n",
    "\n",
    "\n",
    "# [Label(text='mobility', lang='en'), Label(text='Beweglichkeit', lang='de')]\n",
    "print(sort_label_list(label_list))\n",
    "print(sort_label_list(label_list_2))\n",
    "print(sort_label_list(label_list=[\"string\"]))"
   ]
  },
  {
   "cell_type": "code",
   "execution_count": null,
   "metadata": {},
   "outputs": [],
   "source": []
  }
 ],
 "metadata": {
  "kernelspec": {
   "display_name": "quantities-units-W4YBs7Av-py3.12",
   "language": "python",
   "name": "python3"
  },
  "language_info": {
   "codemirror_mode": {
    "name": "ipython",
    "version": 3
   },
   "file_extension": ".py",
   "mimetype": "text/x-python",
   "name": "python",
   "nbconvert_exporter": "python",
   "pygments_lexer": "ipython3",
   "version": "3.12.0"
  }
 },
 "nbformat": 4,
 "nbformat_minor": 2
}
